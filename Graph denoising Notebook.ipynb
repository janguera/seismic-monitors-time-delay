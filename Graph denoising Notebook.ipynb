{
 "cells": [
  {
   "cell_type": "code",
   "execution_count": 76,
   "metadata": {
    "collapsed": true
   },
   "outputs": [],
   "source": [
    "import numpy as np\n",
    "import pandas as pd\n",
    "import matplotlib.pyplot as plt\n",
    "from seven_stations import calc_seven_stations\n",
    "from graph_denoising import graph_denoising, graph_measures\n",
    "np.set_printoptions(precision=2)\n",
    "%matplotlib inline  \n",
    "\n",
    "\n",
    "def normalisation(all_data):\n",
    "    all_data[all_data == 0] = np.nan\n",
    "    # all_data_one_by_r = 1/all_data\n",
    "    all_data_one_by_r = all_data\n",
    "    #print(all_data_one_by_r)\n",
    "    minimum = np.nanmin(all_data_one_by_r)\n",
    "    #print(minimum)\n",
    "    maximum = np.nanmax(all_data_one_by_r)\n",
    "    #print(maximum)\n",
    "    normalized_zero_to_one = (all_data_one_by_r - minimum) / (maximum - minimum)\n",
    "    #print(normalized_zero_to_one)\n",
    "    normalized_zero_to_one = np.nan_to_num(normalized_zero_to_one, 0)\n",
    "    return normalized_zero_to_one, minimum, maximum\n",
    "\n",
    "def reverse_normalisation(all_results, minimum, maximum):\n",
    "    # all_results = np.array(all_results, dtype=np.float32)\n",
    "    all_data_one_by_r = all_results * (maximum - minimum) + minimum\n",
    "    #print(all_data_one_by_r)\n",
    "    all_data_one_by_r[all_data_one_by_r == 0] = np.nan\n",
    "    #print(all_data_one_by_r)\n",
    "    # all_data = 1/all_data_one_by_r\n",
    "    all_data = all_data_one_by_r\n",
    "    #print(all_data)\n",
    "    all_data = np.nan_to_num(all_data, 0)\n",
    "    return all_data\n",
    "    "
   ]
  },
  {
   "cell_type": "code",
   "execution_count": 62,
   "metadata": {},
   "outputs": [
    {
     "data": {
      "text/plain": [
       "190021.68207868215"
      ]
     },
     "execution_count": 62,
     "metadata": {},
     "output_type": "execute_result"
    }
   ],
   "source": [
    "a, mi, ma = normalisation(np.array([1.,2.,3.]))\n",
    "np.nanmax(1/THE_array)"
   ]
  },
  {
   "cell_type": "code",
   "execution_count": 82,
   "metadata": {},
   "outputs": [
    {
     "name": "stdout",
     "output_type": "stream",
     "text": [
      "The algorithm stopped because of reaching max iterations. Error at the end was 12.18229384050047.\n",
      "The algorithm stopped because of reaching max iterations. Error at the end was 12.28792079832545.\n",
      "The algorithm stopped because of reaching max iterations. Error at the end was 12.394817089372667.\n"
     ]
    },
    {
     "data": {
      "image/png": "[encoded data removed]",
      "text/plain": [
       "<Figure size 864x864 with 1 Axes>"
      ]
     },
     "metadata": {},
     "output_type": "display_data"
    }
   ],
   "source": [
    "\n",
    "    \n",
    "#_____________________________________________________________________________________________________________________#\n",
    "#determinig the W_d.\n",
    "filename_info = 'C:/MyTemp/ECMI_Data/dt/AlpArray/METRICS/2016366_local_pair_dist.txt'\n",
    "\n",
    "distances = np.zeros((7,7))\n",
    "# print(distances)\n",
    "file = open(filename_info)\n",
    "names = [\"FR.CALF.00.HHZ\",\n",
    "         \"FR.EILF.00.HHZ\",\n",
    "         \"FR.ESCA.01.HHZ\",\n",
    "         \"FR.MON.00.HHZ\",\n",
    "         \"FR.MVIF.00.HHZ\",\n",
    "         \"FR.PRIMA.00.HHZ\",\n",
    "         \"FR.SAOF.00.HHZ\"]\n",
    "i = 0\n",
    "for line in file:\n",
    "    line_split = line.split(\" \")\n",
    "    if line_split[0] in names and line_split[1] in names:\n",
    "        distances[names.index(line_split[0]), names.index(line_split[1])] = line_split[2]\n",
    "        distances[names.index(line_split[1]), names.index(line_split[0])] = line_split[2]\n",
    "        i = i+1\n",
    "file.close()\n",
    "# print(distances)\n",
    "\n",
    "for i in range(7):\n",
    "    distances[i,i] = np.nan\n",
    "W_d = normalisation(distances)[0]\n",
    "\n",
    "#_________________________________________________________________________________________________________________________# \n",
    "#read W_t\n",
    "\n",
    "array, minimum, maximum = normalisation(np.array(calc_seven_stations(\"C:/MyTemp/\"))[:,3216])\n",
    "result = np.zeros((7,7))\n",
    "\n",
    "i = 0\n",
    "j = 0\n",
    "for t in range(len(array)):\n",
    "    if j == i:\n",
    "        j = j + 1\n",
    "    #print(\"t= \" + str(t))\n",
    "    #print(array[t])\n",
    "    result[i, j] = array[t]\n",
    "    result[j, i] = array[t]\n",
    "    # print(t)\n",
    "    #print(\"i = \" + str(i))\n",
    "    #print(\"j = \" + str(j))\n",
    "    if j < 6:\n",
    "        j = j + 1\n",
    "    else:\n",
    "        j = i + 1\n",
    "        i = i + 1\n",
    "W_t = result\n",
    "\n",
    "#____________________________________________________________________________________________________________________#\n",
    "\n",
    "estimates = graph_measures(W_d) #estimates\n",
    "epsilon = 0.001 # This should be quite small\n",
    "\n",
    "learning_rates = [0.0001*i for i in range(1,1670)]\n",
    "results = [graph_denoising(W_t, estimates, epsilon, learning_rate=i, max_iterations=100000)for i in learning_rates] # ready to run when we get the matrices.\n",
    "results_W = np.array([results[i][0] for i in range(0,1669)])\n",
    "results_t = np.array([results[i][1] for i in range(0,1669)])\n",
    "results_E = np.array([results[i][2] for i in range(0,1669)])\n",
    "\n",
    "width = 12\n",
    "height = 12\n",
    "plt.figure(figsize=(width, height))\n",
    "plt.plot(learning_rates, results_E)\n",
    "plt.title(\"Errors as a function of learning rate.\")\n",
    "plt.show()\n"
   ]
  },
  {
   "cell_type": "code",
   "execution_count": 83,
   "metadata": {},
   "outputs": [
    {
     "data": {
      "text/plain": [
       "0.1203"
      ]
     },
     "execution_count": 83,
     "metadata": {},
     "output_type": "execute_result"
    }
   ],
   "source": [
    "learning_rate = learning_rates[np.argmin(results_E)]\n",
    "learning_rate"
   ]
  },
  {
   "cell_type": "code",
   "execution_count": 84,
   "metadata": {
    "collapsed": true
   },
   "outputs": [],
   "source": [
    "THE_array = np.array(calc_seven_stations(\"C:/MyTemp/\"))"
   ]
  },
  {
   "cell_type": "code",
   "execution_count": 86,
   "metadata": {},
   "outputs": [],
   "source": [
    "def do_a_timeseries(dt_data, estimates, epsilon, learning_rate, max_iterations):\n",
    "    W_t_arrays = np.array([make_Wt(dt_data[:,i]) for i in range(len(dt_data[0]))])\n",
    "    ret = [graph_denoising(W_t, estimates, epsilon, learning_rate, max_iterations) for W_t in W_t_arrays] # ready to run when we get the matrices.\n",
    "    return np.array(ret)\n",
    "normalized_array, minimum, maximum = normalisation(THE_array)\n",
    "W_t_arrays = np.array([make_Wt(normalized_array[:,i]) for i in range(len(normalized_array[0]))])\n",
    "timeseries = do_a_timeseries(normalized_array, estimates, 0.001, learning_rate, 1000000)"
   ]
  },
  {
   "cell_type": "code",
   "execution_count": 87,
   "metadata": {},
   "outputs": [
    {
     "name": "stdout",
     "output_type": "stream",
     "text": [
      "-3.3332419395446777\n",
      "3.3331305980682373\n",
      "0.0\n",
      "1.0\n",
      "0.0\n",
      "1.0\n",
      "-3.333242\n"
     ]
    },
    {
     "data": {
      "text/plain": [
       "3.3331304"
      ]
     },
     "execution_count": 87,
     "metadata": {},
     "output_type": "execute_result"
    }
   ],
   "source": [
    "asdd = np.array(list(timeseries[:,0]), dtype=np.float32)\n",
    "asd = reverse_normalisation(asdd, minimum, maximum)\n",
    "print(np.nanmin(THE_array))\n",
    "print(np.nanmax(THE_array))\n",
    "print(np.min(normalized_array))\n",
    "print(np.max(normalized_array))\n",
    "print(np.min(asdd))\n",
    "print(np.max(asdd))\n",
    "print(np.min(asd))\n",
    "np.max(asd)"
   ]
  },
  {
   "cell_type": "code",
   "execution_count": 89,
   "metadata": {},
   "outputs": [
    {
     "data": {
      "text/plain": [
       "6.462621688842773"
      ]
     },
     "execution_count": 89,
     "metadata": {},
     "output_type": "execute_result"
    }
   ],
   "source": [
    "np.max(asd - reverse_normalisation(W_t_arrays, minimum, maximum))"
   ]
  },
  {
   "cell_type": "code",
   "execution_count": 6,
   "metadata": {},
   "outputs": [
    {
     "data": {
      "text/plain": [
       "7"
      ]
     },
     "execution_count": 6,
     "metadata": {},
     "output_type": "execute_result"
    }
   ],
   "source": [
    "def figure_out_the_size(integer):\n",
    "    ret = 1\n",
    "    summa = 1\n",
    "    t = 2\n",
    "    while integer != summa  and t != 100:\n",
    "        # print(summa)\n",
    "        summa = summa + t\n",
    "        t = t + 1\n",
    "    ret = t\n",
    "    return ret\n",
    "figure_out_the_size(21)\n",
    "\n",
    "    "
   ]
  },
  {
   "cell_type": "code",
   "execution_count": 81,
   "metadata": {},
   "outputs": [
    {
     "data": {
      "text/plain": [
       "array([[ True,  True,  True,  True,  True,  True,  True],\n",
       "       [ True,  True,  True,  True,  True,  True,  True],\n",
       "       [ True,  True,  True,  True,  True,  True,  True],\n",
       "       [ True,  True,  True,  True,  True,  True,  True],\n",
       "       [ True,  True,  True,  True,  True,  True,  True],\n",
       "       [ True,  True,  True,  True,  True,  True,  True],\n",
       "       [ True,  True,  True,  True,  True,  True,  True]])"
      ]
     },
     "execution_count": 81,
     "metadata": {},
     "output_type": "execute_result"
    }
   ],
   "source": [
    "def make_Wt(array):\n",
    "    size = figure_out_the_size(len(array))\n",
    "    result = np.zeros((size,size))\n",
    "    #result[0, 1:7] = array[0:6]\n",
    "    #result[1, 0:1] = array[6]\n",
    "    #result[1, 2:7] = array[7:11]\n",
    "    #result[2, 0:2] = array[11:13]\n",
    "    #result[2, 3:7] = array[13:16]\n",
    "    i = 0\n",
    "    j = 0\n",
    "    for t in range(len(array)):\n",
    "        if j == i:\n",
    "            j = j + 1\n",
    "        #print(\"t= \" + str(t))\n",
    "        #print(array[t])\n",
    "        # print(i)\n",
    "        # print(j)\n",
    "        # print(result[i, j])\n",
    "        # print(array[t])\n",
    "        result[i, j] = array[t]\n",
    "        result[j, i] = array[t]\n",
    "        # print(t)\n",
    "        #print(\"i = \" + str(i))\n",
    "        #print(\"j = \" + str(j))\n",
    "        if j < size-1:\n",
    "            j = j + 1\n",
    "        else:\n",
    "            j = i + 1\n",
    "            i = i + 1\n",
    "    return result\n",
    "\n",
    "make_Wt(array) == W_t\n"
   ]
  },
  {
   "cell_type": "code",
   "execution_count": null,
   "metadata": {
    "collapsed": true
   },
   "outputs": [],
   "source": []
  },
  {
   "cell_type": "code",
   "execution_count": null,
   "metadata": {},
   "outputs": [],
   "source": [
    "width = 12\n",
    "height = 12\n",
    "plt.figure(figsize=(width, height))\n",
    "plt.plot(learning_rates, results_t)\n",
    "plt.title(\"Computation loops as a function of learning rate.\")\n",
    "#plt.plot([i for i in range(1,25)], data_2[0][0])\n",
    "#plt.ylabel('some numbers')\n",
    "plt.show()\n"
   ]
  },
  {
   "cell_type": "code",
   "execution_count": null,
   "metadata": {},
   "outputs": [],
   "source": [
    "width = 12\n",
    "height = 12\n",
    "plt.figure(figsize=(width, height))\n",
    "plt.plot(learning_rates[0:9], results_t[0:9])\n",
    "plt.title(\"Computation loops as a function of learning rate.\")\n",
    "#plt.plot([i for i in range(1,25)], data_2[0][0])\n",
    "#plt.ylabel('some numbers')\n",
    "plt.show()\n"
   ]
  },
  {
   "cell_type": "code",
   "execution_count": null,
   "metadata": {},
   "outputs": [],
   "source": [
    "results_W[np.argmin(results_E)] #Denoised"
   ]
  },
  {
   "cell_type": "code",
   "execution_count": null,
   "metadata": {},
   "outputs": [],
   "source": [
    "W_t #Noisy one"
   ]
  },
  {
   "cell_type": "code",
   "execution_count": null,
   "metadata": {},
   "outputs": [],
   "source": [
    "np.argmin(results_E)"
   ]
  },
  {
   "cell_type": "code",
   "execution_count": null,
   "metadata": {},
   "outputs": [],
   "source": [
    "the_smallest_error_so_far = results_E[np.argmin(results_E)]"
   ]
  },
  {
   "cell_type": "code",
   "execution_count": null,
   "metadata": {},
   "outputs": [],
   "source": [
    "if the_smallest_error_so_far >= np.min(results_E):\n",
    "    the_best_learning_rate_so_far = learning_rates[np.argmin(results_E)]\n",
    "    the_smallest_error_so_far = np.min(results_E)"
   ]
  },
  {
   "cell_type": "code",
   "execution_count": null,
   "metadata": {},
   "outputs": [],
   "source": [
    "the_smallest_error_so_far"
   ]
  },
  {
   "cell_type": "code",
   "execution_count": null,
   "metadata": {},
   "outputs": [],
   "source": [
    "the_best_learning_rate_so_far"
   ]
  },
  {
   "cell_type": "code",
   "execution_count": 22,
   "metadata": {},
   "outputs": [
    {
     "ename": "IndexError",
     "evalue": "too many indices for array",
     "output_type": "error",
     "traceback": [
      "\u001b[1;31m---------------------------------------------------------------------------\u001b[0m",
      "\u001b[1;31mIndexError\u001b[0m                                Traceback (most recent call last)",
      "\u001b[1;32m<ipython-input-22-651e90589087>\u001b[0m in \u001b[0;36m<module>\u001b[1;34m()\u001b[0m\n\u001b[0;32m      3\u001b[0m \u001b[0mheight\u001b[0m \u001b[1;33m=\u001b[0m \u001b[1;36m12\u001b[0m\u001b[1;33m\u001b[0m\u001b[0m\n\u001b[0;32m      4\u001b[0m \u001b[0mplt\u001b[0m\u001b[1;33m.\u001b[0m\u001b[0mfigure\u001b[0m\u001b[1;33m(\u001b[0m\u001b[0mfigsize\u001b[0m\u001b[1;33m=\u001b[0m\u001b[1;33m(\u001b[0m\u001b[0mwidth\u001b[0m\u001b[1;33m,\u001b[0m \u001b[0mheight\u001b[0m\u001b[1;33m)\u001b[0m\u001b[1;33m)\u001b[0m\u001b[1;33m\u001b[0m\u001b[0m\n\u001b[1;32m----> 5\u001b[1;33m \u001b[0mplt\u001b[0m\u001b[1;33m.\u001b[0m\u001b[0mplot\u001b[0m\u001b[1;33m(\u001b[0m\u001b[0mrange\u001b[0m\u001b[1;33m(\u001b[0m\u001b[0mlen\u001b[0m\u001b[1;33m(\u001b[0m\u001b[0masd\u001b[0m\u001b[1;33m[\u001b[0m\u001b[1;33m:\u001b[0m\u001b[1;33m,\u001b[0m\u001b[1;36m1\u001b[0m\u001b[1;33m,\u001b[0m\u001b[1;36m0\u001b[0m\u001b[1;33m]\u001b[0m\u001b[1;33m)\u001b[0m\u001b[1;33m)\u001b[0m\u001b[1;33m,\u001b[0m \u001b[0mTHE_array\u001b[0m\u001b[1;33m[\u001b[0m\u001b[1;33m:\u001b[0m\u001b[1;33m,\u001b[0m\u001b[1;36m1\u001b[0m\u001b[1;33m,\u001b[0m\u001b[1;36m0\u001b[0m\u001b[1;33m]\u001b[0m \u001b[1;33m-\u001b[0m \u001b[0masd\u001b[0m\u001b[1;33m[\u001b[0m\u001b[1;33m:\u001b[0m\u001b[1;33m,\u001b[0m\u001b[1;36m1\u001b[0m\u001b[1;33m,\u001b[0m\u001b[1;36m0\u001b[0m\u001b[1;33m]\u001b[0m\u001b[1;33m)\u001b[0m\u001b[1;33m\u001b[0m\u001b[0m\n\u001b[0m\u001b[0;32m      6\u001b[0m \u001b[0mplt\u001b[0m\u001b[1;33m.\u001b[0m\u001b[0mtitle\u001b[0m\u001b[1;33m(\u001b[0m\u001b[1;34m\"Computation loops as a function of learning rate.\"\u001b[0m\u001b[1;33m)\u001b[0m\u001b[1;33m\u001b[0m\u001b[0m\n\u001b[0;32m      7\u001b[0m \u001b[1;31m#plt.plot([i for i in range(1,25)], data_2[0][0])\u001b[0m\u001b[1;33m\u001b[0m\u001b[1;33m\u001b[0m\u001b[0m\n",
      "\u001b[1;31mIndexError\u001b[0m: too many indices for array"
     ]
    }
   ],
   "source": [
    "asd[:,0,0]\n",
    "width = 12\n",
    "height = 12\n",
    "plt.figure(figsize=(width, height))\n",
    "plt.plot(range(len(asd[:,1,0])), THE_array[:,1,0] - asd[:,1,0])\n",
    "plt.title(\"Computation loops as a function of learning rate.\")\n",
    "#plt.plot([i for i in range(1,25)], data_2[0][0])\n",
    "#plt.ylabel('some numbers')\n",
    "plt.show()\n"
   ]
  },
  {
   "cell_type": "code",
   "execution_count": 49,
   "metadata": {},
   "outputs": [
    {
     "name": "stdout",
     "output_type": "stream",
     "text": [
      "0\n",
      "1\n",
      "0.0\n",
      "-0.11680899\n",
      "0\n",
      "2\n",
      "0.0\n",
      "-0.0029031737\n",
      "0\n",
      "3\n",
      "0.0\n",
      "nan\n",
      "0\n",
      "4\n",
      "0.0\n",
      "0.35437122\n",
      "0\n",
      "5\n",
      "0.0\n",
      "nan\n",
      "0\n",
      "6\n",
      "0.0\n",
      "-0.32249328\n",
      "1\n",
      "2\n",
      "0.0\n",
      "0.27415112\n",
      "1\n",
      "3\n",
      "0.0\n",
      "nan\n",
      "1\n",
      "4\n",
      "0.0\n",
      "-0.16098693\n",
      "1\n",
      "5\n",
      "0.0\n",
      "nan\n",
      "1\n",
      "6\n",
      "0.0\n",
      "-0.27722245\n",
      "2\n",
      "3\n",
      "0.0\n",
      "nan\n",
      "2\n",
      "4\n",
      "0.0\n",
      "-0.72159433\n",
      "2\n",
      "5\n",
      "0.0\n",
      "nan\n",
      "2\n",
      "6\n",
      "0.0\n",
      "-0.5844395\n",
      "3\n",
      "4\n",
      "0.0\n",
      "nan\n",
      "3\n",
      "5\n",
      "0.0\n",
      "nan\n",
      "3\n",
      "6\n",
      "0.0\n",
      "nan\n",
      "4\n",
      "5\n",
      "0.0\n",
      "nan\n",
      "4\n",
      "6\n",
      "0.0\n",
      "0.9994067\n",
      "5\n",
      "6\n",
      "0.0\n",
      "nan\n"
     ]
    },
    {
     "data": {
      "text/plain": [
       "array([[ 0.  , -0.12, -0.  ,   nan,  0.35,   nan, -0.32],\n",
       "       [-0.12,  0.  ,  0.27,   nan, -0.16,   nan, -0.28],\n",
       "       [-0.  ,  0.27,  0.  ,   nan, -0.72,   nan, -0.58],\n",
       "       [  nan,   nan,   nan,  0.  ,   nan,   nan,   nan],\n",
       "       [ 0.35, -0.16, -0.72,   nan,  0.  ,   nan,  1.  ],\n",
       "       [  nan,   nan,   nan,   nan,   nan,  0.  ,   nan],\n",
       "       [-0.32, -0.28, -0.58,   nan,  1.  ,   nan,  0.  ]])"
      ]
     },
     "execution_count": 49,
     "metadata": {},
     "output_type": "execute_result"
    }
   ],
   "source": [
    "make_Wt(np.array(list(THE_array[:,4]), dtype=np.float32))"
   ]
  },
  {
   "cell_type": "code",
   "execution_count": 41,
   "metadata": {},
   "outputs": [
    {
     "data": {
      "text/plain": [
       "(21,)"
      ]
     },
     "execution_count": 41,
     "metadata": {},
     "output_type": "execute_result"
    }
   ],
   "source": [
    "np.shape(list(normalized_array[:,0]))"
   ]
  },
  {
   "cell_type": "code",
   "execution_count": 50,
   "metadata": {},
   "outputs": [
    {
     "name": "stdout",
     "output_type": "stream",
     "text": [
      "-70903.9841733921\n"
     ]
    }
   ],
   "source": [
    "print(minimum)"
   ]
  },
  {
   "cell_type": "code",
   "execution_count": 51,
   "metadata": {},
   "outputs": [
    {
     "name": "stdout",
     "output_type": "stream",
     "text": [
      "190021.68207868215\n"
     ]
    }
   ],
   "source": [
    "print(maximum)"
   ]
  },
  {
   "cell_type": "code",
   "execution_count": 77,
   "metadata": {
    "collapsed": true
   },
   "outputs": [],
   "source": [
    "normalized_array, minimum, maximum = normalisation(THE_array)"
   ]
  },
  {
   "cell_type": "code",
   "execution_count": 78,
   "metadata": {},
   "outputs": [
    {
     "data": {
      "text/plain": [
       "-3.3332419395446777"
      ]
     },
     "execution_count": 78,
     "metadata": {},
     "output_type": "execute_result"
    }
   ],
   "source": [
    "minimum"
   ]
  },
  {
   "cell_type": "code",
   "execution_count": 79,
   "metadata": {},
   "outputs": [
    {
     "data": {
      "text/plain": [
       "3.3331305980682373"
      ]
     },
     "execution_count": 79,
     "metadata": {},
     "output_type": "execute_result"
    }
   ],
   "source": [
    "maximum"
   ]
  },
  {
   "cell_type": "code",
   "execution_count": 80,
   "metadata": {},
   "outputs": [
    {
     "data": {
      "image/png": "[encoded data removed]",
      "text/plain": [
       "<Figure size 864x864 with 1 Axes>"
      ]
     },
     "metadata": {},
     "output_type": "display_data"
    }
   ],
   "source": [
    "width = 12\n",
    "height = 12\n",
    "plt.figure(figsize=(width, height))\n",
    "n, bins, patches = plt.hist(normalized_array.flatten(), 50, density=True, facecolor='green')\n",
    "plt.show()"
   ]
  },
  {
   "cell_type": "code",
   "execution_count": null,
   "metadata": {
    "collapsed": true
   },
   "outputs": [],
   "source": []
  }
 ],
 "metadata": {
  "kernelspec": {
   "display_name": "Python 3",
   "language": "python",
   "name": "python3"
  },
  "language_info": {
   "codemirror_mode": {
    "name": "ipython",
    "version": 3
   },
   "file_extension": ".py",
   "mimetype": "text/x-python",
   "name": "python",
   "nbconvert_exporter": "python",
   "pygments_lexer": "ipython3",
   "version": "3.6.6"
  }
 },
 "nbformat": 4,
 "nbformat_minor": 2
}
