{
 "cells": [
  {
   "cell_type": "code",
   "execution_count": 1,
   "metadata": {},
   "outputs": [
    {
     "name": "stdout",
     "output_type": "stream",
     "text": [
      "The algorithm stopped because of reaching max iterations. Error at the end was 6.124462612225729.\n",
      "The algorithm stopped because of reaching max iterations. Error at the end was 6.2158626113176085.\n",
      "The algorithm stopped because of reaching max iterations. Error at the end was 6.309167814564897.\n"
     ]
    },
    {
     "data": {
      "image/png": "[encoded data removed]",
      "text/plain": [
       "<Figure size 864x864 with 1 Axes>"
      ]
     },
     "metadata": {},
     "output_type": "display_data"
    }
   ],
   "source": [
    "import numpy as np\n",
    "import pandas as pd\n",
    "import matplotlib.pyplot as plt\n",
    "from seven_stations import calc_seven_stations\n",
    "from graph_denoising import graph_denoising, graph_measures\n",
    "np.set_printoptions(precision=2)\n",
    "\n",
    "##### determinig the W_d.\n",
    "filename_info = 'C:/MyTemp/ECMI_Data/dt/AlpArray/METRICS/2016366_local_pair_dist.txt'\n",
    "\n",
    "distances = np.zeros((7,7))\n",
    "# print(distances)\n",
    "file = open(filename_info)\n",
    "names = [\"FR.CALF.00.HHZ\",\n",
    "         \"FR.EILF.00.HHZ\",\n",
    "         \"FR.ESCA.01.HHZ\",\n",
    "         \"FR.MON.00.HHZ\",\n",
    "         \"FR.MVIF.00.HHZ\",\n",
    "         \"FR.PRIMA.00.HHZ\",\n",
    "         \"FR.SAOF.00.HHZ\"]\n",
    "i = 0\n",
    "for line in file:\n",
    "    line_split = line.split(\" \")\n",
    "    if line_split[0] in names and line_split[1] in names:\n",
    "        distances[names.index(line_split[0]), names.index(line_split[1])] = line_split[2]\n",
    "        distances[names.index(line_split[1]), names.index(line_split[0])] = line_split[2]\n",
    "        i = i+1\n",
    "file.close()\n",
    "# print(distances)\n",
    "for i in range(7):\n",
    "    distances[i,i] = np.nan\n",
    "one_by_r_distances = 1/distances\n",
    "# print(one_by_r_distances)\n",
    "max_one_by_r = np.nanmax(one_by_r_distances)\n",
    "min_one_by_r = np.nanmin(one_by_r_distances)\n",
    "# print(max_one_by_r)\n",
    "normalized_one = one_by_r_distances /max_one_by_r\n",
    "normalized_one = np.nan_to_num(normalized_one, 0)\n",
    "normalized_zero_to_one = (one_by_r_distances - min_one_by_r) / (max_one_by_r - min_one_by_r)\n",
    "normalized_zero_to_one = np.nan_to_num(normalized_zero_to_one, 0)\n",
    "W_d = normalized_zero_to_one\n",
    "#####\n",
    "\n",
    "#### read W_t\n",
    "# array = pd.read_csv(\"C:/MyTemp/ECMI_Data/dt/AlpArray/day_1/dt_day1.csv\", delimiter=\";\").values[:,1].astype(np.float32)\n",
    "array = np.array(calc_seven_stations(\"C:/MyTemp/\"))[:,3216]\n",
    "# array = np.array\n",
    "result = np.zeros((7,7))\n",
    "#result[0, 1:7] = array[0:6]\n",
    "#result[1, 0:1] = array[6]\n",
    "#result[1, 2:7] = array[7:11]\n",
    "#result[2, 0:2] = array[11:13]\n",
    "#result[2, 3:7] = array[13:16]\n",
    "\n",
    "i = 0\n",
    "j = 0\n",
    "for t in range(len(array)):\n",
    "    if j == i:\n",
    "        j = j + 1\n",
    "    #print(\"t= \" + str(t))\n",
    "    #print(array[t])\n",
    "    result[i, j] = array[t]\n",
    "    result[j, i] = array[t]\n",
    "    # print(t)\n",
    "    #print(\"i = \" + str(i))\n",
    "    #print(\"j = \" + str(j))\n",
    "    if j < 6:\n",
    "        j = j + 1\n",
    "    else:\n",
    "        j = i + 1\n",
    "        i = i + 1\n",
    "W_t = result\n",
    "\n",
    "####\n",
    "\n",
    "# W_t = np.ones((7,7)) # time delay matrix\n",
    "# W_d = np.array([[0,0.4],[0.8,0.2]]) # distance matrix\n",
    "estimates = graph_measures(W_d) #estimates\n",
    "epsilon = 0.01 # This should be quite small\n",
    "# learning_rate = 0.001 # I have no idea what this should be, we have to try different values\n",
    "\n",
    "learning_rates = [0.0001*i for i in range(1,1670)]\n",
    "results = [graph_denoising(W_t, estimates, epsilon, learning_rate=i, max_iterations=100000)for i in learning_rates] # ready to run when we get the matrices.\n",
    "results_W = np.array([results[i][0] for i in range(0,1669)])\n",
    "results_t = np.array([results[i][1] for i in range(0,1669)])\n",
    "results_E = np.array([results[i][2] for i in range(0,1669)])\n",
    "\n",
    "width = 12\n",
    "height = 12\n",
    "plt.figure(figsize=(width, height))\n",
    "plt.plot(learning_rates, results_E)\n",
    "plt.title(\"Errors as a function of learning rate.\")\n",
    "#plt.plot([i for i in range(1,25)], data_2[0][0])\n",
    "#plt.ylabel('some numbers')\n",
    "plt.show()\n",
    "# W_05, t_05 = graph_denoising(W_t, estimates, epsilon, learning_rate=0.05, max_iterations=1000000)\n",
    "# W_1, _t_1 = graph_denoising(W_t, estimates, epsilon, learning_rate=0.01, max_iterations=1000)\n",
    "# W_2, _t_2 = graph_denoising(W_t, estimates, epsilon, learning_rate=0.001, max_iterations=10000)\n",
    "\n",
    "\n",
    "# print(W == W_1)\n",
    "# print(W==W_2)\n",
    "# print(W_1==W_2)\n",
    "\n",
    "#print(W_t)\n",
    "#print(W)\n"
   ]
  },
  {
   "cell_type": "code",
   "execution_count": 45,
   "metadata": {
    "collapsed": true
   },
   "outputs": [],
   "source": [
    "THE_array = np.array(calc_seven_stations(\"C:/MyTemp/\"))"
   ]
  },
  {
   "cell_type": "code",
   "execution_count": 52,
   "metadata": {},
   "outputs": [],
   "source": [
    "def do_a_timeseries(dt_data, estimates, epsilon, learning_rate, max_iterations):\n",
    "    W_t_arrays = np.array([make_Wt(dt_data[:,i]) for i in range(len(dt_data[0]))])\n",
    "    ret = [graph_denoising(W_t, estimates, epsilon, learning_rate, max_iterations) for W_t in W_t_arrays] # ready to run when we get the matrices.\n",
    "    return np.array(ret)\n",
    "timeseries = do_a_timeseries(THE_array, estimates, 0.001, 0.1307, 1000000)"
   ]
  },
  {
   "cell_type": "code",
   "execution_count": 56,
   "metadata": {},
   "outputs": [
    {
     "data": {
      "text/plain": [
       "0.0009999961219215878"
      ]
     },
     "execution_count": 56,
     "metadata": {},
     "output_type": "execute_result"
    }
   ],
   "source": [
    "np.max(timeseries[:,2])"
   ]
  },
  {
   "cell_type": "code",
   "execution_count": 31,
   "metadata": {},
   "outputs": [
    {
     "data": {
      "text/plain": [
       "7"
      ]
     },
     "execution_count": 31,
     "metadata": {},
     "output_type": "execute_result"
    }
   ],
   "source": [
    "def figure_out_the_size(integer):\n",
    "    ret = 1\n",
    "    summa = 1\n",
    "    t = 2\n",
    "    while integer != summa  and t != 100:\n",
    "        # print(summa)\n",
    "        summa = summa + t\n",
    "        t = t + 1\n",
    "    ret = t\n",
    "    return ret\n",
    "figure_out_the_size(21)\n",
    "    "
   ]
  },
  {
   "cell_type": "code",
   "execution_count": 35,
   "metadata": {},
   "outputs": [
    {
     "data": {
      "text/plain": [
       "array([[ True,  True,  True,  True,  True,  True,  True],\n",
       "       [ True,  True,  True,  True,  True,  True,  True],\n",
       "       [ True,  True,  True,  True,  True,  True,  True],\n",
       "       [ True,  True,  True,  True,  True,  True,  True],\n",
       "       [ True,  True,  True,  True,  True,  True,  True],\n",
       "       [ True,  True,  True,  True,  True,  True,  True],\n",
       "       [ True,  True,  True,  True,  True,  True,  True]])"
      ]
     },
     "execution_count": 35,
     "metadata": {},
     "output_type": "execute_result"
    }
   ],
   "source": [
    "def make_Wt(array):\n",
    "    size = figure_out_the_size(len(array))\n",
    "    result = np.zeros((size,size))\n",
    "    #result[0, 1:7] = array[0:6]\n",
    "    #result[1, 0:1] = array[6]\n",
    "    #result[1, 2:7] = array[7:11]\n",
    "    #result[2, 0:2] = array[11:13]\n",
    "    #result[2, 3:7] = array[13:16]\n",
    "    i = 0\n",
    "    j = 0\n",
    "    for t in range(len(array)):\n",
    "        if j == i:\n",
    "            j = j + 1\n",
    "        #print(\"t= \" + str(t))\n",
    "        #print(array[t])\n",
    "        result[i, j] = array[t]\n",
    "        result[j, i] = array[t]\n",
    "        # print(t)\n",
    "        #print(\"i = \" + str(i))\n",
    "        #print(\"j = \" + str(j))\n",
    "        if j < size-1:\n",
    "            j = j + 1\n",
    "        else:\n",
    "            j = i + 1\n",
    "            i = i + 1\n",
    "    return result\n",
    "\n",
    "make_Wt(array) == W_t\n"
   ]
  },
  {
   "cell_type": "code",
   "execution_count": null,
   "metadata": {
    "collapsed": true
   },
   "outputs": [],
   "source": []
  },
  {
   "cell_type": "code",
   "execution_count": 2,
   "metadata": {},
   "outputs": [
    {
     "data": {
      "image/png": "[encoded data removed]",
      "text/plain": [
       "<Figure size 864x864 with 1 Axes>"
      ]
     },
     "metadata": {},
     "output_type": "display_data"
    }
   ],
   "source": [
    "width = 12\n",
    "height = 12\n",
    "plt.figure(figsize=(width, height))\n",
    "plt.plot(learning_rates, results_t)\n",
    "plt.title(\"Computation loops as a function of learning rate.\")\n",
    "#plt.plot([i for i in range(1,25)], data_2[0][0])\n",
    "#plt.ylabel('some numbers')\n",
    "plt.show()\n"
   ]
  },
  {
   "cell_type": "code",
   "execution_count": 3,
   "metadata": {},
   "outputs": [
    {
     "data": {
      "image/png": "[encoded data removed]",
      "text/plain": [
       "<Figure size 864x864 with 1 Axes>"
      ]
     },
     "metadata": {},
     "output_type": "display_data"
    }
   ],
   "source": [
    "width = 12\n",
    "height = 12\n",
    "plt.figure(figsize=(width, height))\n",
    "plt.plot(learning_rates[0:9], results_t[0:9])\n",
    "plt.title(\"Computation loops as a function of learning rate.\")\n",
    "#plt.plot([i for i in range(1,25)], data_2[0][0])\n",
    "#plt.ylabel('some numbers')\n",
    "plt.show()\n"
   ]
  },
  {
   "cell_type": "code",
   "execution_count": 15,
   "metadata": {},
   "outputs": [
    {
     "data": {
      "text/plain": [
       "array([[0.00e+00, 1.17e-01, 2.99e-01, 2.42e-01, 3.40e-04, 4.61e-01,\n",
       "        1.22e-01],\n",
       "       [1.17e-01, 0.00e+00, 1.73e-01, 4.08e-01, 1.98e-01, 3.22e-01,\n",
       "        5.17e-01],\n",
       "       [2.99e-01, 1.73e-01, 0.00e+00, 5.52e-01, 7.97e-01, 8.08e-01,\n",
       "        0.00e+00],\n",
       "       [2.42e-01, 4.08e-01, 5.52e-01, 0.00e+00, 5.96e-01, 5.03e-01,\n",
       "        7.02e-02],\n",
       "       [3.40e-04, 1.98e-01, 7.97e-01, 5.96e-01, 0.00e+00, 1.57e-01,\n",
       "        2.35e-02],\n",
       "       [4.61e-01, 3.22e-01, 8.08e-01, 5.03e-01, 1.57e-01, 0.00e+00,\n",
       "        2.29e-01],\n",
       "       [1.22e-01, 5.17e-01, 0.00e+00, 7.02e-02, 2.35e-02, 2.29e-01,\n",
       "        0.00e+00]])"
      ]
     },
     "execution_count": 15,
     "metadata": {},
     "output_type": "execute_result"
    }
   ],
   "source": [
    "results_W[np.argmin(results_E)] #Denoised"
   ]
  },
  {
   "cell_type": "code",
   "execution_count": 5,
   "metadata": {},
   "outputs": [
    {
     "data": {
      "text/plain": [
       "array([[ 0.  ,  0.02,  0.28,  0.61,  0.2 ,  0.56,  0.83],\n",
       "       [ 0.02,  0.  , -0.46,  0.31,  0.05, -0.04,  0.76],\n",
       "       [ 0.28, -0.46,  0.  ,  0.54,  0.73,  0.53, -0.21],\n",
       "       [ 0.61,  0.31,  0.54,  0.  ,  0.91,  0.6 ,  0.77],\n",
       "       [ 0.2 ,  0.05,  0.73,  0.91,  0.  ,  0.21,  0.68],\n",
       "       [ 0.56, -0.04,  0.53,  0.6 ,  0.21,  0.  ,  0.67],\n",
       "       [ 0.83,  0.76, -0.21,  0.77,  0.68,  0.67,  0.  ]])"
      ]
     },
     "execution_count": 5,
     "metadata": {},
     "output_type": "execute_result"
    }
   ],
   "source": [
    "W_t #Noisy one"
   ]
  },
  {
   "cell_type": "code",
   "execution_count": 6,
   "metadata": {},
   "outputs": [
    {
     "data": {
      "text/plain": [
       "1306"
      ]
     },
     "execution_count": 6,
     "metadata": {},
     "output_type": "execute_result"
    }
   ],
   "source": [
    "np.argmin(results_E)"
   ]
  },
  {
   "cell_type": "code",
   "execution_count": 10,
   "metadata": {},
   "outputs": [],
   "source": [
    "the_smallest_error_so_far = results_E[np.argmin(results_E)]"
   ]
  },
  {
   "cell_type": "code",
   "execution_count": 11,
   "metadata": {},
   "outputs": [],
   "source": [
    "if the_smallest_error_so_far >= np.min(results_E):\n",
    "    the_best_learning_rate_so_far = learning_rates[np.argmin(results_E)]\n",
    "    the_smallest_error_so_far = np.min(results_E)"
   ]
  },
  {
   "cell_type": "code",
   "execution_count": 12,
   "metadata": {},
   "outputs": [
    {
     "data": {
      "text/plain": [
       "0.002537036795110176"
      ]
     },
     "execution_count": 12,
     "metadata": {},
     "output_type": "execute_result"
    }
   ],
   "source": [
    "the_smallest_error_so_far"
   ]
  },
  {
   "cell_type": "code",
   "execution_count": 13,
   "metadata": {},
   "outputs": [
    {
     "data": {
      "text/plain": [
       "0.1307"
      ]
     },
     "execution_count": 13,
     "metadata": {},
     "output_type": "execute_result"
    }
   ],
   "source": [
    "the_best_learning_rate_so_far"
   ]
  },
  {
   "cell_type": "code",
   "execution_count": null,
   "metadata": {
    "collapsed": true
   },
   "outputs": [],
   "source": []
  }
 ],
 "metadata": {
  "kernelspec": {
   "display_name": "Python 3",
   "language": "python",
   "name": "python3"
  },
  "language_info": {
   "codemirror_mode": {
    "name": "ipython",
    "version": 3
   },
   "file_extension": ".py",
   "mimetype": "text/x-python",
   "name": "python",
   "nbconvert_exporter": "python",
   "pygments_lexer": "ipython3",
   "version": "3.6.6"
  }
 },
 "nbformat": 4,
 "nbformat_minor": 2
}
